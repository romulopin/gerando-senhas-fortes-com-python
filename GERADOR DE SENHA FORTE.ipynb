{
 "cells": [
  {
   "cell_type": "markdown",
   "metadata": {},
   "source": [
    "# Como Gerar Senhas Fortes Com Random Em Python"
   ]
  },
  {
   "cell_type": "markdown",
   "metadata": {},
   "source": [
    "Quantas vezes você se cadastrou em um site e pensou ai gente por que a senha tem que ser tão grande? Vamos entender a real necessidade de ter uma senha considerada “forte” e para isso vamos aprender primeiro como gerar uma senha forte com Python, para isso vamos aprender um novo conceito: número randômico.\n",
    "\n",
    "Uma sequência randômica corresponde a uma sequência de números que não pode ser prevista, cada seguinte algarismo não tem relação nenhuma com o anterior. As linguagens de programação possuem geradores pseudo randômicos, por que para gerar estes números eles possuem uma fórmula interna, e essa fórmula recebe uma semente. Se você passar a mesma semente para a fórmula a sequência de números gerada sempre será igual. É possível configurar a semente chamando a função seed(). Se você passar a mesma semente a sequência de números será igual sempre.\n",
    "\n",
    "Abaixo seguem alguns scripts retirados da internet e feitos em python para gerar senhas fortes utilizando jupyter notebook."
   ]
  },
  {
   "cell_type": "code",
   "execution_count": 59,
   "metadata": {},
   "outputs": [
    {
     "name": "stdout",
     "output_type": "stream",
     "text": [
      "0.13436424411240122\n",
      "0.8474337369372327\n",
      "0.13436424411240122\n",
      "0.8474337369372327\n"
     ]
    }
   ],
   "source": [
    "from random import seed, random\n",
    "\n",
    "seed(1)\n",
    "print(random()) #0.134364244112\n",
    "print(random()) #0.847433736937\n",
    "\n",
    "seed(1)\n",
    "print(random()) #0.134364244112\n",
    "print(random()) #0.847433736937"
   ]
  },
  {
   "cell_type": "code",
   "execution_count": 61,
   "metadata": {},
   "outputs": [
    {
     "name": "stdout",
     "output_type": "stream",
     "text": [
      "0.763774618976614\n",
      "0.2550690257394217\n",
      "0.49543508709194095\n",
      "0.4494910647887381\n"
     ]
    }
   ],
   "source": [
    "from random import seed, random\n",
    "print(random()) # 0.885350193339\n",
    "print(random()) # 0.381136740351\n",
    "\n",
    "print(random()) # 0.634755066626\n",
    "print(random()) # 0.130661237179"
   ]
  },
  {
   "cell_type": "code",
   "execution_count": 32,
   "metadata": {},
   "outputs": [
    {
     "data": {
      "text/plain": [
       "'!\"#$%&\\'()*+,-./:;<=>?@[\\\\]^_`{|}~'"
      ]
     },
     "execution_count": 32,
     "metadata": {},
     "output_type": "execute_result"
    }
   ],
   "source": [
    "import string\n",
    "\n",
    "string.ascii_lowercase # abcdefghijklmnopqrstuvwxyz\n",
    "string.ascii_uppercase # ABCDEFGHIJKLMNOPQRSTUVWXYZ\n",
    "string.ascii_letters # abcdefghijklmnopqrstuvwxyzABCDEFGHIJKLMNOPQRSTUVWXYZ\n",
    "string.digits # 0123456789\n",
    "string.punctuation # <=>?@[\\]^_`{|}~.\n",
    "\n"
   ]
  },
  {
   "cell_type": "markdown",
   "metadata": {},
   "source": [
    "Vamos começar gerando uma senha de 5 caracteres que inclua apenas letras minúsculas:"
   ]
  },
  {
   "cell_type": "code",
   "execution_count": 33,
   "metadata": {},
   "outputs": [
    {
     "name": "stdout",
     "output_type": "stream",
     "text": [
      "emtzk\n"
     ]
    }
   ],
   "source": [
    "from random import choice\n",
    "import string\n",
    "\n",
    "tamanho = 5\n",
    "valores = string.ascii_lowercase\n",
    "senha = ''\n",
    "for i in range(tamanho):\n",
    "  senha += choice(valores)\n",
    "\n",
    "print(senha)"
   ]
  },
  {
   "cell_type": "markdown",
   "metadata": {},
   "source": [
    "Se quisermos gerar uma senha que também contenha números, podemos incluí-los nos valores:"
   ]
  },
  {
   "cell_type": "code",
   "execution_count": 34,
   "metadata": {},
   "outputs": [
    {
     "name": "stdout",
     "output_type": "stream",
     "text": [
      "bbhcg\n"
     ]
    }
   ],
   "source": [
    "tamanho = 5\n",
    "valores = string.ascii_lowercase + string.digits\n",
    "senha = ''\n",
    "for i in range(tamanho):\n",
    "  senha += choice(valores)\n",
    "\n",
    "print(senha)"
   ]
  },
  {
   "cell_type": "markdown",
   "metadata": {},
   "source": [
    "Se quisermos gerar uma senha que também contenha números, podemos incluí-los nos valores:"
   ]
  },
  {
   "cell_type": "code",
   "execution_count": 35,
   "metadata": {},
   "outputs": [
    {
     "name": "stdout",
     "output_type": "stream",
     "text": [
      "6he57\n"
     ]
    }
   ],
   "source": [
    "tamanho = 5\n",
    "valores = string.ascii_lowercase + string.digits\n",
    "senha = ''\n",
    "for i in range(tamanho):\n",
    "  senha += choice(valores)\n",
    "\n",
    "print(senha)"
   ]
  },
  {
   "cell_type": "markdown",
   "metadata": {},
   "source": [
    "Agora, se quisermos utilizar todas as letras maiúsculas e minúsculas, números e caracteres especiais devemos configurar a variável valores para incluir todos:"
   ]
  },
  {
   "cell_type": "code",
   "execution_count": 38,
   "metadata": {},
   "outputs": [
    {
     "name": "stdout",
     "output_type": "stream",
     "text": [
      "abcdefghijklmnopqrstuvwxyzABCDEFGHIJKLMNOPQRSTUVWXYZ0123456789!\"#$%&'()*+,-./:;<=>?@[\\]^_`{|}~\n"
     ]
    }
   ],
   "source": [
    "valores = string.ascii_letters + string.digits + string.punctuation\n",
    "print (valores)"
   ]
  },
  {
   "cell_type": "markdown",
   "metadata": {},
   "source": [
    "Vamos criar uma função para gerar as senhas:"
   ]
  },
  {
   "cell_type": "code",
   "execution_count": 62,
   "metadata": {},
   "outputs": [],
   "source": [
    "import string\n",
    "from itertools import combinations_with_replacement\n",
    "\n",
    "def gerar_senhas(valores, tamanho):\n",
    "    comb = combinations_with_replacement(valores, tamanho)\n",
    "    print(list(comb))"
   ]
  },
  {
   "cell_type": "markdown",
   "metadata": {},
   "source": [
    "# Agora outro exemplo de como gerar senhas fortes com perguntas:"
   ]
  },
  {
   "cell_type": "code",
   "execution_count": 57,
   "metadata": {},
   "outputs": [
    {
     "name": "stdout",
     "output_type": "stream",
     "text": [
      "Quantas senhas:\n",
      "5\n",
      "Qual o comprimento da senha?\n",
      "10\n",
      "   Senha: 1 - fK{.!&Hxes \n",
      "   Senha: 2 - %^CB0]:i<m \n",
      "   Senha: 3 - /wU8F2?nIv \n",
      "   Senha: 4 - 4]G(NR@!J< \n",
      "   Senha: 5 - g7p$I&`-R1 \n"
     ]
    }
   ],
   "source": [
    "import random\n",
    "import string\n",
    "\n",
    "string.ascii_lowercase # abcdefghijklmnopqrstuvwxyz\n",
    "string.ascii_uppercase # ABCDEFGHIJKLMNOPQRSTUVWXYZ\n",
    "string.ascii_letters # abcdefghijklmnopqrstuvwxyzABCDEFGHIJKLMNOPQRSTUVWXYZ\n",
    "string.digits # 0123456789\n",
    "string.punctuation # <=>?@[\\]^_`{|}~.\n",
    "\n",
    "def randompassword(number):\n",
    "    chars = random.sample(string.ascii_letters + string.digits + string.punctuation, number)\n",
    "    passw = ''.join(map(str, chars))\n",
    "    return passw\n",
    "\n",
    "amount = int(input(\"Quantas senhas:\\n\"))\n",
    "number = int(input(\"Qual o comprimento da senha?\\n\"))\n",
    "for i in range(amount):\n",
    "    print(f\"   Senha: {i+1} - {randompassword(number)} \")"
   ]
  },
  {
   "cell_type": "code",
   "execution_count": null,
   "metadata": {},
   "outputs": [],
   "source": []
  }
 ],
 "metadata": {
  "kernelspec": {
   "display_name": "Python 3",
   "language": "python",
   "name": "python3"
  },
  "language_info": {
   "codemirror_mode": {
    "name": "ipython",
    "version": 3
   },
   "file_extension": ".py",
   "mimetype": "text/x-python",
   "name": "python",
   "nbconvert_exporter": "python",
   "pygments_lexer": "ipython3",
   "version": "3.8.3"
  }
 },
 "nbformat": 4,
 "nbformat_minor": 4
}
